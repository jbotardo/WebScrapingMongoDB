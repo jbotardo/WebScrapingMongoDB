{
 "cells": [
  {
   "cell_type": "code",
   "execution_count": 1,
   "metadata": {},
   "outputs": [],
   "source": [
    "#import dependencies\n",
    "from splinter import Browser\n",
    "from bs4 import BeautifulSoup as bs\n",
    "import time\n",
    "import pandas as pd\n",
    "import requests"
   ]
  },
  {
   "cell_type": "code",
   "execution_count": 2,
   "metadata": {},
   "outputs": [
    {
     "data": {
      "text/plain": [
       "{'news_title': 'Mars InSight Lander Seen in First Images from Space ',\n",
       " 'news_p': \"Look closely, and you can make out the lander's solar panels.\"}"
      ]
     },
     "execution_count": 2,
     "metadata": {},
     "output_type": "execute_result"
    }
   ],
   "source": [
    "# def init_browser():\n",
    "#     executable_path = {\"executable_path\": \"chromedriver.exe\"}\n",
    "#     browser = Browser('chrome', **executable_path, headless=False)\n",
    "\n",
    "#collect the latest News Title and Paragraph Text\n",
    "def scrape_info():\n",
    "    browser = Browser(\"chrome\")\n",
    "    \n",
    "    url = \"https://mars.nasa.gov/news/\"\n",
    "    browser.visit(url)\n",
    "    time.sleep(1)\n",
    "    html = browser.html\n",
    "    soup = bs(html, \"html.parser\")\n",
    "    \n",
    "    news_title = soup.find(\"div\", class_=\"content_title\").get_text()\n",
    "    news_p = soup.find(\"div\", class_=\"article_teaser_body\").get_text()\n",
    "    \n",
    "    #store data in dictionary\n",
    "    nasa_data = {\n",
    "        \"news_title\": news_title, \n",
    "        \"news_p\": news_p\n",
    "    }\n",
    "    \n",
    "    #close the browser\n",
    "    browser.quit()\n",
    "    \n",
    "    return nasa_data\n",
    "\n",
    "scrape_info()"
   ]
  },
  {
   "cell_type": "code",
   "execution_count": 5,
   "metadata": {},
   "outputs": [
    {
     "data": {
      "text/plain": [
       "'https://www.jpl.nasa.gov/spaceimages/images/wallpaper/PIA16883-1920x1200.jpg'"
      ]
     },
     "execution_count": 5,
     "metadata": {},
     "output_type": "execute_result"
    }
   ],
   "source": [
    "#Use splinter to navigate the site and find the image url for the current Featured Mars Image and assign the url string\n",
    "def scrape_images():\n",
    "    browser = Browser(\"chrome\")\n",
    "    \n",
    "    url_2 = \"https://www.jpl.nasa.gov/spaceimages/?search=&category=Mars\"\n",
    "    browser.visit(url_2)\n",
    "    time.sleep(1)\n",
    "    html = browser.html\n",
    "    soup = bs(html, \"html.parser\")\n",
    "    \n",
    "    query_url = 'https://www.jpl.nasa.gov'\n",
    "    relative_image_path = soup.find('article')['style'].\\\n",
    "        replace('background-image: url(','').replace(');', '')[1:-1]\n",
    "    \n",
    "    featured_img_url = query_url + relative_image_path\n",
    "    \n",
    "    browser.quit()\n",
    "    return featured_img_url\n",
    "\n",
    "scrape_images()"
   ]
  },
  {
   "cell_type": "code",
   "execution_count": 7,
   "metadata": {},
   "outputs": [
    {
     "data": {
      "text/plain": [
       "'Sol 2258 (2018-12-13), high -6C/21F, low -70C/-93F, pressure at 8.41 hPa, daylight 06:37-18:51'"
      ]
     },
     "execution_count": 7,
     "metadata": {},
     "output_type": "execute_result"
    }
   ],
   "source": [
    "#scrape the latest Mars weather tweet from the page\n",
    "def scrape_twitter():\n",
    "    browser = Browser(\"chrome\")\n",
    "    \n",
    "    url_3 = \"https://twitter.com/marswxreport?lang=en\"\n",
    "    browser.visit(url_3)\n",
    "    time.sleep(1)\n",
    "    html = browser.html\n",
    "    soup = bs(html, \"html.parser\")\n",
    "    \n",
    "    mars_weather = soup.find(\"p\", class_=\"TweetTextSize TweetTextSize--normal js-tweet-text tweet-text\").text\n",
    "    \n",
    "    \n",
    "    browser.quit()\n",
    "    return mars_weather\n",
    "\n",
    "scrape_twitter()"
   ]
  },
  {
   "cell_type": "code",
   "execution_count": 9,
   "metadata": {},
   "outputs": [
    {
     "data": {
      "text/plain": [
       "'<table border=\"1\" class=\"dataframe\">  <thead>    <tr style=\"text-align: right;\">      <th></th>      <th>value</th>    </tr>    <tr>      <th>description</th>      <th></th>    </tr>  </thead>  <tbody>    <tr>      <th>Equatorial Diameter:</th>      <td>6,792 km</td>    </tr>    <tr>      <th>Polar Diameter:</th>      <td>6,752 km</td>    </tr>    <tr>      <th>Mass:</th>      <td>6.42 x 10^23 kg (10.7% Earth)</td>    </tr>    <tr>      <th>Moons:</th>      <td>2 (Phobos &amp; Deimos)</td>    </tr>    <tr>      <th>Orbit Distance:</th>      <td>227,943,824 km (1.52 AU)</td>    </tr>    <tr>      <th>Orbit Period:</th>      <td>687 days (1.9 years)</td>    </tr>    <tr>      <th>Surface Temperature:</th>      <td>-153 to 20 °C</td>    </tr>    <tr>      <th>First Record:</th>      <td>2nd millennium BC</td>    </tr>    <tr>      <th>Recorded By:</th>      <td>Egyptian astronomers</td>    </tr>  </tbody></table>'"
      ]
     },
     "execution_count": 9,
     "metadata": {},
     "output_type": "execute_result"
    }
   ],
   "source": [
    "#use Pandas to scrape the table containing facts about the planet including Diameter, Mass, etc\n",
    "#Use Pandas to convert the data to a HTML table string\n",
    "def scrape_facts():\n",
    "    browser = Browser(\"chrome\")\n",
    "    \n",
    "    url_4 = \"https://space-facts.com/mars/\"\n",
    "    tables = pd.read_html(url_4)\n",
    "    df = tables[0]\n",
    "    df.columns = [\"description\", \"value\"]\n",
    "    df.set_index('description', inplace=True)\n",
    "    \n",
    "    fact_table = df.to_html()\n",
    "    fact_table = fact_table.replace(\"\\n\", \"\")\n",
    "    \n",
    "    return fact_table\n",
    "\n",
    "scrape_facts()"
   ]
  },
  {
   "cell_type": "code",
   "execution_count": 12,
   "metadata": {},
   "outputs": [
    {
     "data": {
      "text/plain": [
       "[{'title': 'Cerberus Hemisphere Enhanced',\n",
       "  'img_url': 'https://astrogeology.usgs.gov/search/results?q=hemisphere+enhanced&k1=target&v1=Mars/cache/images/cfa62af2557222a02478f1fcd781d445_cerberus_enhanced.tif_full.jpg'},\n",
       " {'title': 'Schiaparelli Hemisphere Enhanced',\n",
       "  'img_url': 'https://astrogeology.usgs.gov/search/results?q=hemisphere+enhanced&k1=target&v1=Mars/cache/images/3cdd1cbf5e0813bba925c9030d13b62e_schiaparelli_enhanced.tif_full.jpg'},\n",
       " {'title': 'Syrtis Major Hemisphere Enhanced',\n",
       "  'img_url': 'https://astrogeology.usgs.gov/search/results?q=hemisphere+enhanced&k1=target&v1=Mars/cache/images/ae209b4e408bb6c3e67b6af38168cf28_syrtis_major_enhanced.tif_full.jpg'},\n",
       " {'title': 'Valles Marineris Hemisphere Enhanced',\n",
       "  'img_url': 'https://astrogeology.usgs.gov/search/results?q=hemisphere+enhanced&k1=target&v1=Mars/cache/images/7cf2da4bf549ed01c17f206327be4db7_valles_marineris_enhanced.tif_full.jpg'}]"
      ]
     },
     "execution_count": 12,
     "metadata": {},
     "output_type": "execute_result"
    }
   ],
   "source": [
    "#obtain high resolution images for each of Mar's hemispheres.\n",
    "def scrape_hemisphere():\n",
    "    browser = Browser(\"chrome\")\n",
    "    \n",
    "    url_5 = \"https://astrogeology.usgs.gov/search/results?q=hemisphere+enhanced&k1=target&v1=Mars\"\n",
    "    browser.visit(url_5)\n",
    "    time.sleep(1)\n",
    "    html = browser.html\n",
    "    soup = bs(html, \"html.parser\")\n",
    "    \n",
    "    hemisphere_image_urls = []\n",
    "    #find titles and links\n",
    "    hemispheres = soup.find_all(\"div\", class_=\"item\")\n",
    "    for hemis in hemispheres:\n",
    "        title = hemis.find('h3').text\n",
    "        class_url = hemis.find(\"a\", class_=\"itemLink product-item\")[\"href\"]\n",
    "        \n",
    "        combined_url = \"https://astrogeology.usgs.gov/\" + class_url\n",
    "        browser.visit(combined_url)\n",
    "        html = browser.html\n",
    "        soup = bs(html, \"html.parser\")\n",
    "        \n",
    "        img_url = url_5 + soup.find(\"img\", class_=\"wide-image\")['src']\n",
    "        hemisphere_image_urls.append({\"title\" : title, \"img_url\" : img_url})\n",
    "        \n",
    "        \n",
    "    \n",
    "    browser.quit()\n",
    "    return hemisphere_image_urls\n",
    "\n",
    "scrape_hemisphere()"
   ]
  },
  {
   "cell_type": "code",
   "execution_count": null,
   "metadata": {},
   "outputs": [],
   "source": []
  },
  {
   "cell_type": "code",
   "execution_count": null,
   "metadata": {},
   "outputs": [],
   "source": []
  }
 ],
 "metadata": {
  "kernelspec": {
   "display_name": "Python 3",
   "language": "python",
   "name": "python3"
  },
  "language_info": {
   "codemirror_mode": {
    "name": "ipython",
    "version": 3
   },
   "file_extension": ".py",
   "mimetype": "text/x-python",
   "name": "python",
   "nbconvert_exporter": "python",
   "pygments_lexer": "ipython3",
   "version": "3.6.6"
  }
 },
 "nbformat": 4,
 "nbformat_minor": 2
}
